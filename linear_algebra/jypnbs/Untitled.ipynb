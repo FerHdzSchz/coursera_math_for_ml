{
 "cells": [
  {
   "cell_type": "code",
   "execution_count": 3,
   "metadata": {},
   "outputs": [],
   "source": [
    "import numpy as np"
   ]
  },
  {
   "cell_type": "code",
   "execution_count": 35,
   "metadata": {},
   "outputs": [],
   "source": [
    "M = np.array([[4, -5, 6],\n",
    "              [7, -8, 6],\n",
    "              [1.5, -.5, -2]])\n",
    "\n",
    "M = np.array([[1.5, -1], [-.5, .5]])"
   ]
  },
  {
   "cell_type": "code",
   "execution_count": 36,
   "metadata": {},
   "outputs": [
    {
     "data": {
      "text/plain": [
       "array([[ 1.5, -1. ],\n",
       "       [-0.5,  0.5]])"
      ]
     },
     "execution_count": 36,
     "metadata": {},
     "output_type": "execute_result"
    }
   ],
   "source": [
    "M"
   ]
  },
  {
   "cell_type": "code",
   "execution_count": 37,
   "metadata": {},
   "outputs": [],
   "source": [
    "vals, vecs = np.linalg.eig(M)"
   ]
  },
  {
   "cell_type": "code",
   "execution_count": 38,
   "metadata": {},
   "outputs": [
    {
     "name": "stdout",
     "output_type": "stream",
     "text": [
      "[1.8660254 0.1339746]\n",
      "\n",
      "[[ 0.9390708   0.59069049]\n",
      " [-0.34372377  0.80689822]]\n"
     ]
    }
   ],
   "source": [
    "print(vals)\n",
    "print(\"\")\n",
    "print(vecs)"
   ]
  },
  {
   "cell_type": "code",
   "execution_count": 40,
   "metadata": {},
   "outputs": [
    {
     "name": "stdout",
     "output_type": "stream",
     "text": [
      "1.8660254037844386\n",
      "0.1339745962155614\n"
     ]
    }
   ],
   "source": [
    "print(1 + (np.sqrt(3))/2)\n",
    "print(1 - (np.sqrt(3))/2)"
   ]
  },
  {
   "cell_type": "code",
   "execution_count": 54,
   "metadata": {},
   "outputs": [
    {
     "name": "stdout",
     "output_type": "stream",
     "text": [
      "[0.73205081 1.        ]\n",
      "[-2.7320508  1.       ]\n"
     ]
    }
   ],
   "source": [
    "print(vecs[:, 1] * 1/0.80689822)\n",
    "print(vecs[:, 0] * 1/-0.34372377)\n"
   ]
  },
  {
   "cell_type": "code",
   "execution_count": 55,
   "metadata": {},
   "outputs": [
    {
     "data": {
      "text/plain": [
       "array([[-2.73205081,  0.73205081],\n",
       "       [ 1.        ,  1.        ]])"
      ]
     },
     "execution_count": 55,
     "metadata": {},
     "output_type": "execute_result"
    }
   ],
   "source": [
    "np.array([[-1 - np.sqrt(3), -1 + np.sqrt(3)],\n",
    "          [1, 1]])"
   ]
  }
 ],
 "metadata": {
  "kernelspec": {
   "display_name": "Python 3",
   "language": "python",
   "name": "python3"
  },
  "language_info": {
   "codemirror_mode": {
    "name": "ipython",
    "version": 3
   },
   "file_extension": ".py",
   "mimetype": "text/x-python",
   "name": "python",
   "nbconvert_exporter": "python",
   "pygments_lexer": "ipython3",
   "version": "3.6.4"
  }
 },
 "nbformat": 4,
 "nbformat_minor": 2
}

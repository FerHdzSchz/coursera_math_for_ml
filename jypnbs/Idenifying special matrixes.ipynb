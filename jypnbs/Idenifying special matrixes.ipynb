{
 "cells": [
  {
   "cell_type": "code",
   "execution_count": 155,
   "metadata": {},
   "outputs": [],
   "source": [
    "import pandas as pd\n",
    "import numpy as np\n",
    "import os\n",
    "from glob import glob\n",
    "from pdfminer.pdfparser import PDFParser\n",
    "from pdfminer.pdfdocument import PDFDocument\n",
    "from pdfminer.pdfpage import PDFPage\n",
    "# From PDFInterpreter import both PDFResourceManager and PDFPageInterpreter\n",
    "from pdfminer.pdfinterp import PDFResourceManager, PDFPageInterpreter\n",
    "from pdfminer.pdfdevice import PDFDevice\n",
    "# Import this to raise exception whenever text extraction from PDF is not allowed\n",
    "from pdfminer.pdfpage import PDFTextExtractionNotAllowed\n",
    "from pdfminer.layout import LAParams, LTTextBox, LTTextLine, LTTextBoxHorizontal\n",
    "from pdfminer.converter import PDFPageAggregator"
   ]
  },
  {
   "cell_type": "code",
   "execution_count": 114,
   "metadata": {},
   "outputs": [],
   "source": [
    "my_file = \"V:/Santander/Migración - Información histórica/REPROCESOS\""
   ]
  },
  {
   "cell_type": "code",
   "execution_count": 141,
   "metadata": {},
   "outputs": [],
   "source": [
    "test = list()\n",
    "test = [os.path.join(p, f) \n",
    " for p, np, filename in os.walk(my_file) \n",
    " for f in filename\n",
    " if os.path.splitext(f)[1] == \".pdf\"\n",
    "]"
   ]
  },
  {
   "cell_type": "code",
   "execution_count": 144,
   "metadata": {},
   "outputs": [
    {
     "data": {
      "text/plain": [
       "<_io.BufferedReader name='V:/Santander/Migración - Información histórica/REPROCESOS\\\\Cesion-01\\\\01 - Carta Cesion Santander - 2010 09 29 (1192 Cred).pdf'>"
      ]
     },
     "execution_count": 144,
     "metadata": {},
     "output_type": "execute_result"
    }
   ],
   "source": [
    "test[0]\n"
   ]
  },
  {
   "cell_type": "code",
   "execution_count": 156,
   "metadata": {},
   "outputs": [
    {
     "name": "stdout",
     "output_type": "stream",
     "text": [
      "<PDFParser: <_io.BufferedReader name='V:/Santander/Migración - Información histórica/REPROCESOS\\\\Cesion-01\\\\01 - Carta Cesion Santander - 2010 09 29 (1192 Cred).pdf'>, bufpos=0>\n",
      "<pdfminer.pdfdocument.PDFDocument object at 0x00000210A6E26908>\n",
      "<LTPage(1) 0.000,0.000,611.000,790.000 rotate=0>\n"
     ]
    }
   ],
   "source": [
    "log_file = \"c:/Users/FHERNANDEZ/Documents/log_python_migracion.txt\"\n",
    "pdf_file = test[0]\n",
    "password = \"\"\n",
    "extracted_text = \"\"\n",
    "\n",
    "# Open and read the pdf file in binary mode\n",
    "fp = open(pdf_file, \"rb\")\n",
    "\n",
    "# Create parser object to parse the pdf content\n",
    "parser = PDFParser(fp)\n",
    "\n",
    "print(parser)\n",
    "\n",
    "# Store the parsed content in PDFDocument object\n",
    "document = PDFDocument(parser, password)\n",
    "\n",
    "print(document)\n",
    "\n",
    "# Check if document is extractable, if not abort\n",
    "if not document.is_extractable:\n",
    "    raise PDFTextExtractionNotAllowed\n",
    "    \n",
    "# Create PDFResourceManager object that stores shared resources such as fonts or images\n",
    "rsrcmgr = PDFResourceManager()\n",
    "\n",
    "# set parameters for analysis\n",
    "laparams = LAParams()\n",
    "\n",
    "# Create a PDFDevice object which translates interpreted information into desired format\n",
    "# Device needs to be connected to resource manager to store shared resources\n",
    "# device = PDFDevice(rsrcmgr)\n",
    "# Extract the decive to page aggregator to get LT object elements\n",
    "device = PDFPageAggregator(rsrcmgr, laparams=laparams)\n",
    "\n",
    "# Create interpreter object to process page content from PDFDocument\n",
    "# Interpreter needs to be connected to resource manager for shared resources and device \n",
    "interpreter = PDFPageInterpreter(rsrcmgr, device)\n",
    "\n",
    "# Ok now that we have everything to process a pdf document, lets process it page by page\n",
    "for page in PDFPage.create_pages(document):\n",
    "    # As the interpreter processes the page stored in PDFDocument object\n",
    "    interpreter.process_page(page)\n",
    "    # The device renders the layout from interpreter\n",
    "    layout = device.get_result()\n",
    "    print(layout)\n",
    "    # Out of the many LT objects within layout, we are interested in LTTextBox and LTTextLine\n",
    "    for lt_obj in layout:\n",
    "        if isinstance(lt_obj,  LTTextBoxHorizontal):\n",
    "            extracted_text += lt_obj.get_text()\n",
    "            print(extracted_text)\n",
    "            \n",
    "# close pdf           \n",
    "fp.close()\n",
    "\n",
    "# print (extracted_text.encode(\"utf-8\"))\n",
    "\n",
    "with open(log_file, \"wb\") as my_log:\n",
    "    my_log.write(extracted_text.encode(\"UTF-8\"))\n",
    "#print(\"Done !!\")\n",
    "\n"
   ]
  }
 ],
 "metadata": {
  "kernelspec": {
   "display_name": "Python 3",
   "language": "python",
   "name": "python3"
  },
  "language_info": {
   "codemirror_mode": {
    "name": "ipython",
    "version": 3
   },
   "file_extension": ".py",
   "mimetype": "text/x-python",
   "name": "python",
   "nbconvert_exporter": "python",
   "pygments_lexer": "ipython3",
   "version": "3.6.4"
  }
 },
 "nbformat": 4,
 "nbformat_minor": 2
}
